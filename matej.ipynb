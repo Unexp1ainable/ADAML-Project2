{
 "cells": [
  {
   "cell_type": "code",
   "execution_count": 39,
   "metadata": {},
   "outputs": [],
   "source": [
    "import pandas as pd\n",
    "import numpy as np\n",
    "import matplotlib.pyplot as plt\n",
    "from datetime import datetime, timedelta"
   ]
  },
  {
   "cell_type": "code",
   "execution_count": 23,
   "metadata": {},
   "outputs": [],
   "source": [
    "df_test = pd.read_csv('data/DailyDelhiClimateTest.csv', parse_dates=True)\n",
    "df_train = pd.read_csv('data/DailyDelhiClimateTrain.csv', parse_dates=True)"
   ]
  },
  {
   "cell_type": "code",
   "execution_count": 49,
   "metadata": {},
   "outputs": [],
   "source": [
    "def did_they_have_vacation(df_col):\n",
    "    dates = df_col.to_numpy()\n",
    "    dates = [datetime.strptime(date_str, '%Y-%m-%d') for date_str in dates]\n",
    "\n",
    "    for i in range(len(dates) - 1):\n",
    "        diff = dates[i] - dates[i+1]\n",
    "        if diff != timedelta(days=-1):\n",
    "            print('Vacation')\n",
    "            return\n",
    "\n",
    "    print('No vacation')\n"
   ]
  },
  {
   "cell_type": "code",
   "execution_count": 50,
   "metadata": {},
   "outputs": [
    {
     "name": "stdout",
     "output_type": "stream",
     "text": [
      "No vacation\n",
      "No vacation\n"
     ]
    }
   ],
   "source": [
    "did_they_have_vacation(df_test['date'])\n",
    "did_they_have_vacation(df_train['date'])"
   ]
  }
 ],
 "metadata": {
  "kernelspec": {
   "display_name": "venv",
   "language": "python",
   "name": "python3"
  },
  "language_info": {
   "codemirror_mode": {
    "name": "ipython",
    "version": 3
   },
   "file_extension": ".py",
   "mimetype": "text/x-python",
   "name": "python",
   "nbconvert_exporter": "python",
   "pygments_lexer": "ipython3",
   "version": "3.10.5"
  }
 },
 "nbformat": 4,
 "nbformat_minor": 2
}
