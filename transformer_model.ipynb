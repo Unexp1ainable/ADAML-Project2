{
 "cells": [
  {
   "cell_type": "code",
   "execution_count": 1,
   "metadata": {},
   "outputs": [],
   "source": [
    "import torch\n",
    "import torch.utils.data\n",
    "import torch.nn as nn\n",
    "import torch.nn.functional as F\n",
    "import lightning\n",
    "from lightning.pytorch.callbacks.early_stopping import EarlyStopping\n",
    "from lightning.pytorch.loggers.tensorboard import TensorBoardLogger\n",
    "import utils\n",
    "import numpy as np\n",
    "import matplotlib.pyplot as plt\n",
    "from itertools import product\n",
    "from sklearn.metrics import mean_squared_error\n",
    "import os\n",
    "from models import TransformerModel\n"
   ]
  },
  {
   "cell_type": "code",
   "execution_count": 2,
   "metadata": {},
   "outputs": [],
   "source": [
    "df_train, df_test, df_valid, mu, std = utils.load_cleaned_data()\n",
    "\n",
    "BATCH_SIZE = 32\n"
   ]
  },
  {
   "cell_type": "code",
   "execution_count": 4,
   "metadata": {},
   "outputs": [
    {
     "name": "stderr",
     "output_type": "stream",
     "text": [
      "GPU available: True (cuda), used: True\n",
      "TPU available: False, using: 0 TPU cores\n",
      "IPU available: False, using: 0 IPUs\n",
      "HPU available: False, using: 0 HPUs\n",
      "LOCAL_RANK: 0 - CUDA_VISIBLE_DEVICES: [0]\n",
      "\n",
      "  | Name        | Type               | Params\n",
      "---------------------------------------------------\n",
      "0 | pos_encoder | PositionalEncoding | 0     \n",
      "1 | transformer | Transformer        | 1.5 K \n",
      "2 | criterion   | MSELoss            | 0     \n",
      "---------------------------------------------------\n",
      "1.5 K     Trainable params\n",
      "0         Non-trainable params\n",
      "1.5 K     Total params\n",
      "0.006     Total estimated model params size (MB)\n"
     ]
    },
    {
     "name": "stdout",
     "output_type": "stream",
     "text": [
      "TNN_ne1_nd1_sl100_tl100_nh2_df64\n"
     ]
    },
    {
     "data": {
      "application/vnd.jupyter.widget-view+json": {
       "model_id": "ce0e101ac09d4f779516ed442d009958",
       "version_major": 2,
       "version_minor": 0
      },
      "text/plain": [
       "VBox(children=(Sanity Checking: |          | 0/? [00:00<?, ?it/s],))"
      ]
     },
     "metadata": {},
     "output_type": "display_data"
    },
    {
     "data": {
      "application/vnd.jupyter.widget-view+json": {
       "model_id": "bd0b488acc6e4302a21e29b53a67031b",
       "version_major": 2,
       "version_minor": 0
      },
      "text/plain": [
       "VBox(children=(Training: |          | 0/? [00:00<?, ?it/s],))"
      ]
     },
     "metadata": {},
     "output_type": "display_data"
    },
    {
     "ename": "ValueError",
     "evalue": "operands could not be broadcast together with shapes (0,) (4,) ",
     "output_type": "error",
     "traceback": [
      "\u001b[0;31m---------------------------------------------------------------------------\u001b[0m",
      "\u001b[0;31mValueError\u001b[0m                                Traceback (most recent call last)",
      "Cell \u001b[0;32mIn[4], line 42\u001b[0m\n\u001b[1;32m     40\u001b[0m dataloader_test \u001b[38;5;241m=\u001b[39m torch\u001b[38;5;241m.\u001b[39mutils\u001b[38;5;241m.\u001b[39mdata\u001b[38;5;241m.\u001b[39mDataLoader(utils\u001b[38;5;241m.\u001b[39mClimateDataset(df_test, src_len, tgt_len, TransformerModel\u001b[38;5;241m.\u001b[39mSTART_TOKEN), batch_size\u001b[38;5;241m=\u001b[39m\u001b[38;5;241m1\u001b[39m, shuffle\u001b[38;5;241m=\u001b[39m\u001b[38;5;28;01mFalse\u001b[39;00m, num_workers\u001b[38;5;241m=\u001b[39m\u001b[38;5;241m15\u001b[39m)\n\u001b[1;32m     41\u001b[0m preds, true \u001b[38;5;241m=\u001b[39m model\u001b[38;5;241m.\u001b[39mpredict(dataloader_test)\n\u001b[0;32m---> 42\u001b[0m preds \u001b[38;5;241m=\u001b[39m \u001b[43mpreds\u001b[49m\u001b[43m \u001b[49m\u001b[38;5;241;43m*\u001b[39;49m\u001b[43m \u001b[49m\u001b[43mstd\u001b[49m\u001b[38;5;241;43m.\u001b[39;49m\u001b[43mto_numpy\u001b[49m\u001b[43m(\u001b[49m\u001b[43m)\u001b[49m \u001b[38;5;241m+\u001b[39m mu\u001b[38;5;241m.\u001b[39mto_numpy()\n\u001b[1;32m     43\u001b[0m true \u001b[38;5;241m=\u001b[39m true \u001b[38;5;241m*\u001b[39m std\u001b[38;5;241m.\u001b[39mto_numpy() \u001b[38;5;241m+\u001b[39m mu\u001b[38;5;241m.\u001b[39mto_numpy()\n\u001b[1;32m     45\u001b[0m \u001b[38;5;66;03m# and deliver us from evil\u001b[39;00m\n",
      "\u001b[0;31mValueError\u001b[0m: operands could not be broadcast together with shapes (0,) (4,) "
     ]
    }
   ],
   "source": [
    "num_encoder_layers = [1]\n",
    "num_decoder_layers = [1]\n",
    "src_lengths = [100]\n",
    "tgt_lengths = [100]\n",
    "nheads = [2]\n",
    "dim_feedforwards = [64]\n",
    "\n",
    "folder = \"transformer-report\"\n",
    "\n",
    "# Create folder if it does not exist\n",
    "if not os.path.exists(folder):\n",
    "    os.makedirs(folder)\n",
    "\n",
    "stats_path = f\"{folder}/stats.csv\"\n",
    "\n",
    "with open(stats_path, 'w') as stats_file:\n",
    "    stats_file.write(\"NumEncoderLayers;NumDecoderLayers;SrcLen;TgtLen;NHeads;DimFeedforward;MSE;RMSE\\n\")\n",
    "\n",
    "for num_encoders, num_decoders, src_len, tgt_len, nhead, dim_feedforward in product(num_encoder_layers, num_decoder_layers, src_lengths, tgt_lengths, nheads, dim_feedforwards):\n",
    "    dataloader_train = torch.utils.data.DataLoader(utils.ClimateDataset(df_train, src_len, tgt_len, TransformerModel.START_TOKEN), batch_size=BATCH_SIZE, shuffle=False, num_workers=15)\n",
    "    dataloader_valid = torch.utils.data.DataLoader(utils.ClimateDataset(df_valid, src_len, tgt_len, TransformerModel.START_TOKEN), batch_size=BATCH_SIZE, shuffle=False, num_workers=15)\n",
    "    k = len(dataloader_train) // BATCH_SIZE\n",
    "\n",
    "    model_name = f\"TNN_ne{num_encoders}_nd{num_decoders}_sl{src_len}_tl{tgt_len}_nh{nhead}_df{dim_feedforward}\"\n",
    "    print(model_name)\n",
    "    model = TransformerModel(input_size=4, learning_rate=0.001, num_encoder_layers=num_encoders, num_decoder_layers=num_decoders, nhead=nhead, dim_feedforward=dim_feedforward, seq_len=src_len)\n",
    "\n",
    "    trainer = lightning.Trainer(\n",
    "        accelerator=\"gpu\",\n",
    "        max_epochs=150,\n",
    "        log_every_n_steps=k,\n",
    "        callbacks=[\n",
    "            EarlyStopping(monitor=\"val_loss\", mode=\"min\", patience=10, min_delta=0.01),\n",
    "        ],\n",
    "        logger=TensorBoardLogger(\"transformer-logs\", name=\"\", version=model_name)\n",
    "    )\n",
    "\n",
    "    trainer.fit(model, dataloader_train, dataloader_valid)\n",
    "\n",
    "    dataloader_test = torch.utils.data.DataLoader(utils.ClimateDataset(df_test, src_len, tgt_len, TransformerModel.START_TOKEN), batch_size=1, shuffle=False, num_workers=15)\n",
    "    preds, true = model.predict(dataloader_test)\n",
    "    preds = preds * std.to_numpy() + mu.to_numpy()\n",
    "    true = true * std.to_numpy() + mu.to_numpy()\n",
    "\n",
    "    # and deliver us from evil\n",
    "    mses = 0\n",
    "    msei = 0\n",
    "    for batch in range(preds.shape[0]):\n",
    "        for tgt_item in range(preds.shape[2]):\n",
    "            mse = mean_squared_error(true[batch, 0, tgt_item], preds[batch, 0, tgt_item])\n",
    "            mses += mse\n",
    "            msei += 1\n",
    "\n",
    "    mse = mses / msei\n",
    "    print(\"Mean Squared Error:\", mse)\n",
    "    print(\"Root Mean Squared Error:\", np.sqrt(mse))\n",
    "    plt.plot(preds[:,0,1,0], label=\"pred\")\n",
    "    plt.plot(true[:,0,1,0], label=\"true\")\n",
    "    plt.xlabel('Sample')\n",
    "    plt.ylabel('Predicted temperature')\n",
    "    plt.legend()\n",
    "    plt.title(model_name)\n",
    "    plt.savefig(f\"{folder}/{model_name}.png\")\n",
    "    plt.show()\n",
    "\n",
    "    with open(stats_path, 'a') as stats_file:\n",
    "        stats_file.write(f\"{num_encoders};{num_decoders};{src_len};{tgt_len};{nhead};{dim_feedforward};{mse};{np.sqrt(mse)}\\n\")\n"
   ]
  },
  {
   "cell_type": "code",
   "execution_count": null,
   "metadata": {},
   "outputs": [],
   "source": []
  }
 ],
 "metadata": {
  "kernelspec": {
   "display_name": "tf",
   "language": "python",
   "name": "python3"
  },
  "language_info": {
   "codemirror_mode": {
    "name": "ipython",
    "version": 3
   },
   "file_extension": ".py",
   "mimetype": "text/x-python",
   "name": "python",
   "nbconvert_exporter": "python",
   "pygments_lexer": "ipython3",
   "version": "3.11.5"
  }
 },
 "nbformat": 4,
 "nbformat_minor": 2
}
